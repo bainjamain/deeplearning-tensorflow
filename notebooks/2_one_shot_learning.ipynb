{
 "cells": [
  {
   "cell_type": "markdown",
   "metadata": {},
   "source": [
    "# One shot learning (UNFINISHED, expected to be finished before September 5th 2016).\n",
    "\n",
    "Imagine we have a bunch of classes, say 10 classes, and we'd like to perform a classification task. However, we only have a good amount of data for 7 classes out of 10. For the other 3 classes, there's only a very limited number of examples (say 1 or 2 examples for instance). The idea of *one shot learning* is to train a network on the classes for which we have a lot of data and use this trained network to classify examples from the classes for which it wasn't trained on. Here, we mostly follow the approach described in *Siamese Neural Networks for One-shot Image Recognition* by Koch et al.\n",
    "\n",
    "We use a siamese architecture that we train on the MNIST data set. More specifically, we only train the netowk on digits from 0 to 6. The network will take two images and answer the following question: **do the two inputs belong to the same class?** After the training has been completed, we try to classify the digits 7, 8 and 9 by comparing the testing examples to the very limited labeled data we have for these classes.\n",
    "\n",
    "For more details on *siamese architecture*, I refer the interested reader to the implementation of a siamese network in the notebook **siamese**."
   ]
  },
  {
   "cell_type": "code",
   "execution_count": 34,
   "metadata": {
    "collapsed": true
   },
   "outputs": [],
   "source": [
    "import sys\n",
    "import os\n",
    "import tensorflow as tf\n",
    "import numpy as np\n",
    "import matplotlib.pyplot as plt\n",
    "sys.path.insert(0, '../data_processing/')\n",
    "from siamese_data import MNIST # load the data and process it\n",
    "%matplotlib inline"
   ]
  },
  {
   "cell_type": "markdown",
   "metadata": {},
   "source": [
    "We load the data."
   ]
  },
  {
   "cell_type": "code",
   "execution_count": 2,
   "metadata": {
    "collapsed": true
   },
   "outputs": [],
   "source": [
    "data = MNIST()"
   ]
  },
  {
   "cell_type": "markdown",
   "metadata": {},
   "source": [
    "## Learning a similarity metric with a siamese network\n",
    "\n",
    "We are going to implement a siamese architecture similar to the one described in the **siamese notebook**, but we are going to use convolutional neural networks instead of LSTM."
   ]
  },
  {
   "cell_type": "code",
   "execution_count": 3,
   "metadata": {
    "collapsed": false
   },
   "outputs": [],
   "source": [
    "n_inputs = 784 # dimension of each of the input vectors: 28*28\n",
    "n_hidden = 128 # number of neurons of the bi-directional LSTM\n",
    "n_classes = 2 # two possible classes, either `same` of `different`"
   ]
  },
  {
   "cell_type": "code",
   "execution_count": 4,
   "metadata": {
    "collapsed": true
   },
   "outputs": [],
   "source": [
    "x1 = tf.placeholder(tf.float32, shape=[None, n_inputs]) # placeholder for the first network (image 1)\n",
    "x2 = tf.placeholder(tf.float32, shape=[None, n_inputs]) # placeholder for the second network (image 2)\n",
    "\n",
    "# placeholder for the label. `[1, 0]` for `same` and `[0, 1]` for `different`.\n",
    "y = tf.placeholder(tf.float32, shape=[None, n_classes])\n",
    "\n",
    "# placeholder for dropout (we could use different dropouts for different part of the architecture)\n",
    "keep_prob = tf.placeholder(tf.float32)"
   ]
  },
  {
   "cell_type": "code",
   "execution_count": null,
   "metadata": {
    "collapsed": true
   },
   "outputs": [],
   "source": [
    "\n",
    "tf.nn.conv2d()\n",
    "\n"
   ]
  },
  {
   "cell_type": "code",
   "execution_count": 5,
   "metadata": {
    "collapsed": true
   },
   "outputs": [],
   "source": [
    "with tf.variable_scope('siamese_network') as scope:\n",
    "    with tf.name_scope('Bi_LSTM_1'):\n",
    "        outputs1, last_state_fw1, last_state_bw1 = tf.nn.bidirectional_rnn(\n",
    "                                        lstm_fw_cell, lstm_bw_cell, x1_,\n",
    "                                        dtype=tf.float32)\n",
    "    with tf.name_scope('Bi_LSTM_2'):\n",
    "        scope.reuse_variables() # tied weights (reuse the weights from `Bi_LSTM_1` for `Bi_LSTM_2`)\n",
    "        outputs2, last_state_fw2, last_state_bw2 = tf.nn.bidirectional_rnn(\n",
    "                                        lstm_fw_cell, lstm_bw_cell, x2_,\n",
    "                                        dtype=tf.float32)\n",
    "\n",
    "\n",
    "# Weights and biases for the layer that connects the outputs from the two networks\n",
    "weights = tf.get_variable('weigths_out', shape=[4 * n_hidden, n_classes],\n",
    "                initializer=tf.random_normal_initializer(stddev=1.0/float(n_hidden)))\n",
    "biases = tf.get_variable('biases_out', shape=[n_classes])\n",
    "\n",
    "# We concatenate the different states of the cells for the first network and\n",
    "# for the second network independently, and we compute the absolute difference\n",
    "# between the states from the first network and the second network.\n",
    "last_state1 = tf.concat(1, [last_state_fw1[0], last_state_bw1[0],\n",
    "                              last_state_fw1[1], last_state_bw1[1]])\n",
    "last_state2 = tf.concat(1, [last_state_fw2[0], last_state_bw2[0],\n",
    "                              last_state_fw2[1], last_state_bw2[1]])\n",
    "last_states_diff = tf.abs(last_state1 - last_state2)\n",
    "logits = tf.matmul(last_states_diff, weights) + biases"
   ]
  },
  {
   "cell_type": "code",
   "execution_count": 6,
   "metadata": {
    "collapsed": true
   },
   "outputs": [],
   "source": [
    "logits = siamese_model(x1, x2, keep_prob) # Unscaled logits. They are scaled using softmax in the loss function\n",
    "loss = tf.reduce_mean(tf.nn.softmax_cross_entropy_with_logits(logits, y))\n",
    "optimizer = tf.train.AdamOptimizer().minimize(loss)\n",
    "\n",
    "correct_pred = tf.equal(tf.argmax(logits, 1), tf.argmax(y, 1)) \n",
    "accuracy = tf.reduce_mean(tf.cast(correct_pred, tf.float32))"
   ]
  },
  {
   "cell_type": "code",
   "execution_count": 84,
   "metadata": {
    "collapsed": false
   },
   "outputs": [
    {
     "name": "stdout",
     "output_type": "stream",
     "text": [
      "Network training begins.\n",
      "step 100, training loss: 0.52368, training accuracy: 0.719\n",
      "step 200, training loss: 0.32655, training accuracy: 0.891\n",
      "testing step 200, accuracy 0.838\n",
      "step 300, training loss: 0.23412, training accuracy: 0.930\n",
      "step 400, training loss: 0.21807, training accuracy: 0.930\n",
      "testing step 400, accuracy 0.900\n",
      "step 500, training loss: 0.23719, training accuracy: 0.875\n",
      "step 600, training loss: 0.21580, training accuracy: 0.938\n",
      "testing step 600, accuracy 0.896\n",
      "step 700, training loss: 0.23450, training accuracy: 0.898\n",
      "step 800, training loss: 0.14737, training accuracy: 0.961\n",
      "testing step 800, accuracy 0.930\n",
      "step 900, training loss: 0.25219, training accuracy: 0.898\n",
      "step 1000, training loss: 0.12850, training accuracy: 0.961\n",
      "testing step 1000, accuracy 0.932\n",
      "Snapshot saved in file: models/one_shot_learning/snapshot_1000.ckpt\n",
      "step 1100, training loss: 0.12041, training accuracy: 0.930\n",
      "step 1200, training loss: 0.14836, training accuracy: 0.945\n",
      "testing step 1200, accuracy 0.943\n",
      "step 1300, training loss: 0.13096, training accuracy: 0.969\n",
      "step 1400, training loss: 0.10823, training accuracy: 0.961\n",
      "testing step 1400, accuracy 0.957\n",
      "step 1500, training loss: 0.08143, training accuracy: 0.961\n",
      "step 1600, training loss: 0.04076, training accuracy: 1.000\n",
      "testing step 1600, accuracy 0.955\n",
      "step 1700, training loss: 0.13552, training accuracy: 0.953\n",
      "step 1800, training loss: 0.04160, training accuracy: 0.992\n",
      "testing step 1800, accuracy 0.957\n",
      "step 1900, training loss: 0.13165, training accuracy: 0.945\n",
      "step 2000, training loss: 0.15442, training accuracy: 0.961\n",
      "testing step 2000, accuracy 0.949\n",
      "Snapshot saved in file: models/one_shot_learning/snapshot_2000.ckpt\n",
      "step 2100, training loss: 0.07386, training accuracy: 0.977\n",
      "step 2200, training loss: 0.14143, training accuracy: 0.930\n",
      "testing step 2200, accuracy 0.973\n",
      "step 2300, training loss: 0.07066, training accuracy: 0.969\n",
      "step 2400, training loss: 0.06392, training accuracy: 0.984\n",
      "testing step 2400, accuracy 0.955\n",
      "step 2500, training loss: 0.12563, training accuracy: 0.961\n",
      "step 2600, training loss: 0.15149, training accuracy: 0.945\n",
      "testing step 2600, accuracy 0.969\n",
      "step 2700, training loss: 0.05012, training accuracy: 0.977\n",
      "step 2800, training loss: 0.08001, training accuracy: 0.969\n",
      "testing step 2800, accuracy 0.971\n",
      "step 2900, training loss: 0.04237, training accuracy: 0.984\n",
      "step 3000, training loss: 0.05934, training accuracy: 0.969\n",
      "testing step 3000, accuracy 0.967\n",
      "Snapshot saved in file: models/one_shot_learning/snapshot_3000.ckpt\n",
      "step 3100, training loss: 0.08827, training accuracy: 0.961\n",
      "step 3200, training loss: 0.08920, training accuracy: 0.977\n",
      "testing step 3200, accuracy 0.969\n",
      "step 3300, training loss: 0.12580, training accuracy: 0.945\n",
      "step 3400, training loss: 0.08609, training accuracy: 0.961\n",
      "testing step 3400, accuracy 0.965\n",
      "step 3500, training loss: 0.03842, training accuracy: 0.984\n",
      "step 3600, training loss: 0.09529, training accuracy: 0.977\n",
      "testing step 3600, accuracy 0.957\n",
      "step 3700, training loss: 0.02241, training accuracy: 1.000\n",
      "step 3800, training loss: 0.03746, training accuracy: 0.984\n",
      "testing step 3800, accuracy 0.967\n",
      "step 3900, training loss: 0.01965, training accuracy: 1.000\n",
      "step 4000, training loss: 0.05668, training accuracy: 0.977\n",
      "testing step 4000, accuracy 0.965\n",
      "Snapshot saved in file: models/one_shot_learning/snapshot_4000.ckpt\n",
      "step 4100, training loss: 0.08636, training accuracy: 0.984\n",
      "step 4200, training loss: 0.07879, training accuracy: 0.969\n",
      "testing step 4200, accuracy 0.969\n",
      "step 4300, training loss: 0.03539, training accuracy: 0.984\n",
      "step 4400, training loss: 0.02991, training accuracy: 0.992\n",
      "testing step 4400, accuracy 0.982\n",
      "step 4500, training loss: 0.09799, training accuracy: 0.969\n",
      "step 4600, training loss: 0.10508, training accuracy: 0.961\n",
      "testing step 4600, accuracy 0.973\n",
      "step 4700, training loss: 0.06871, training accuracy: 0.961\n",
      "step 4800, training loss: 0.09385, training accuracy: 0.945\n",
      "testing step 4800, accuracy 0.971\n",
      "step 4900, training loss: 0.12416, training accuracy: 0.953\n",
      "step 5000, training loss: 0.06142, training accuracy: 0.969\n",
      "testing step 5000, accuracy 0.977\n",
      "Snapshot saved in file: models/one_shot_learning/snapshot_5000.ckpt\n",
      "step 5100, training loss: 0.02727, training accuracy: 0.992\n",
      "step 5200, training loss: 0.02384, training accuracy: 1.000\n",
      "testing step 5200, accuracy 0.979\n",
      "step 5300, training loss: 0.02395, training accuracy: 0.992\n",
      "step 5400, training loss: 0.04706, training accuracy: 0.969\n",
      "testing step 5400, accuracy 0.973\n",
      "step 5500, training loss: 0.03520, training accuracy: 0.992\n",
      "step 5600, training loss: 0.09295, training accuracy: 0.977\n",
      "testing step 5600, accuracy 0.977\n",
      "step 5700, training loss: 0.08809, training accuracy: 0.953\n",
      "step 5800, training loss: 0.05832, training accuracy: 0.977\n",
      "testing step 5800, accuracy 0.973\n",
      "step 5900, training loss: 0.06063, training accuracy: 0.977\n",
      "step 6000, training loss: 0.02676, training accuracy: 0.992\n",
      "testing step 6000, accuracy 0.986\n",
      "Snapshot saved in file: models/one_shot_learning/snapshot_6000.ckpt\n",
      "step 6100, training loss: 0.07979, training accuracy: 0.969\n",
      "step 6200, training loss: 0.06194, training accuracy: 0.977\n",
      "testing step 6200, accuracy 0.973\n",
      "step 6300, training loss: 0.02662, training accuracy: 0.992\n",
      "step 6400, training loss: 0.09406, training accuracy: 0.961\n",
      "testing step 6400, accuracy 0.959\n",
      "step 6500, training loss: 0.06030, training accuracy: 0.984\n",
      "step 6600, training loss: 0.05213, training accuracy: 0.984\n",
      "testing step 6600, accuracy 0.967\n",
      "step 6700, training loss: 0.01738, training accuracy: 0.992\n",
      "step 6800, training loss: 0.02938, training accuracy: 0.984\n",
      "testing step 6800, accuracy 0.980\n",
      "step 6900, training loss: 0.03245, training accuracy: 0.984\n",
      "step 7000, training loss: 0.07327, training accuracy: 0.969\n",
      "testing step 7000, accuracy 0.967\n",
      "Snapshot saved in file: models/one_shot_learning/snapshot_7000.ckpt\n",
      "step 7100, training loss: 0.00994, training accuracy: 1.000\n",
      "step 7200, training loss: 0.05707, training accuracy: 0.984\n",
      "testing step 7200, accuracy 0.984\n",
      "step 7300, training loss: 0.07880, training accuracy: 0.984\n",
      "step 7400, training loss: 0.00982, training accuracy: 1.000\n",
      "testing step 7400, accuracy 0.973\n",
      "step 7500, training loss: 0.05166, training accuracy: 0.977\n",
      "step 7600, training loss: 0.01656, training accuracy: 1.000\n",
      "testing step 7600, accuracy 0.979\n",
      "step 7700, training loss: 0.01438, training accuracy: 1.000\n",
      "step 7800, training loss: 0.01180, training accuracy: 1.000\n",
      "testing step 7800, accuracy 0.971\n",
      "step 7900, training loss: 0.05559, training accuracy: 0.984\n",
      "step 8000, training loss: 0.04952, training accuracy: 0.984\n",
      "testing step 8000, accuracy 0.973\n",
      "Snapshot saved in file: models/one_shot_learning/snapshot_8000.ckpt\n",
      "step 8100, training loss: 0.01931, training accuracy: 1.000\n",
      "step 8200, training loss: 0.02172, training accuracy: 0.992\n",
      "testing step 8200, accuracy 0.967\n",
      "step 8300, training loss: 0.02301, training accuracy: 1.000\n",
      "step 8400, training loss: 0.04569, training accuracy: 0.984\n",
      "testing step 8400, accuracy 0.973\n",
      "step 8500, training loss: 0.01363, training accuracy: 1.000\n",
      "step 8600, training loss: 0.02894, training accuracy: 0.984\n",
      "testing step 8600, accuracy 0.969\n",
      "step 8700, training loss: 0.02836, training accuracy: 0.984\n",
      "step 8800, training loss: 0.01697, training accuracy: 0.992\n",
      "testing step 8800, accuracy 0.977\n",
      "step 8900, training loss: 0.02568, training accuracy: 0.977\n",
      "step 9000, training loss: 0.03186, training accuracy: 0.984\n",
      "testing step 9000, accuracy 0.961\n",
      "Snapshot saved in file: models/one_shot_learning/snapshot_9000.ckpt\n",
      "step 9100, training loss: 0.03797, training accuracy: 0.977\n",
      "step 9200, training loss: 0.01552, training accuracy: 0.992\n",
      "testing step 9200, accuracy 0.973\n",
      "step 9300, training loss: 0.01828, training accuracy: 0.992\n",
      "step 9400, training loss: 0.04011, training accuracy: 0.984\n",
      "testing step 9400, accuracy 0.961\n",
      "step 9500, training loss: 0.03103, training accuracy: 0.992\n",
      "step 9600, training loss: 0.04742, training accuracy: 0.977\n",
      "testing step 9600, accuracy 0.969\n",
      "step 9700, training loss: 0.04159, training accuracy: 0.984\n",
      "step 9800, training loss: 0.09327, training accuracy: 0.977\n",
      "testing step 9800, accuracy 0.969\n",
      "step 9900, training loss: 0.05232, training accuracy: 0.984\n",
      "step 10000, training loss: 0.01639, training accuracy: 0.992\n",
      "testing step 10000, accuracy 0.980\n",
      "Snapshot saved in file: models/one_shot_learning/snapshot_10000.ckpt\n",
      "********************************\n",
      "Training finished.\n"
     ]
    }
   ],
   "source": [
    "init = tf.initialize_all_variables()\n",
    "\n",
    "max_iter = 10000 # maximum number of iterations for training\n",
    "batch_train = 128 # batch size for training\n",
    "batch_test = 512 # batch size for testing\n",
    "display = 100 # display the training loss and accuracy every `display` step\n",
    "n_test = 200 # test the network every `n_test` step\n",
    "\n",
    "n_snapshot = 1000 # save the weights every `n_snapshot` step\n",
    "checkpoint_dir = 'models/one_shot_learning/'\n",
    "saver = tf.train.Saver() # to save the trained model\n",
    "\n",
    "with tf.Session() as sess:\n",
    "    sess.run(init) # initialize all variables\n",
    "    print('Network training begins.')\n",
    "    for i in range(1, max_iter + 1):\n",
    "        # We retrieve a batch of data from the training set (digits between 0 and 6)\n",
    "        batch_x1, batch_x2, batch_y = data.get_next_batch(batch_train, phase='train', one_shot=True)\n",
    "        # We feed the data to the network for training\n",
    "        feed_dict = {x1: batch_x1, x2: batch_x2, y: batch_y, keep_prob: .9}\n",
    "        _, loss_, accuracy_ = sess.run([optimizer, loss, accuracy], feed_dict=feed_dict)\n",
    "        \n",
    "        if i % display == 0:\n",
    "            print('step %i, training loss: %.5f, training accuracy: %.3f' % (i, loss_, accuracy_))\n",
    "        \n",
    "        # Testing the network\n",
    "        if i % n_test == 0:\n",
    "            # Retrieving data from the test set\n",
    "            batch_x1, batch_x2, batch_y = data.get_next_batch(batch_test, phase='test', one_shot=True)\n",
    "            feed_dict = {x1: batch_x1, x2: batch_x2, y: batch_y, keep_prob: 1.0}\n",
    "            accuracy_test = sess.run(accuracy, feed_dict=feed_dict)\n",
    "            print('testing step %i, accuracy %.3f' % (i, accuracy_test))\n",
    "        \n",
    "        # We save a snapshot of the weights\n",
    "        if i % n_snapshot == 0:\n",
    "            save_path = saver.save(sess, os.path.join(checkpoint_dir,'snapshot_') + str(i) + '.ckpt')\n",
    "            print('Snapshot saved in file: %s' % save_path)\n",
    "\n",
    "    print('********************************')\n",
    "    print('Training finished.')"
   ]
  },
  {
   "cell_type": "markdown",
   "metadata": {},
   "source": [
    "## One shot learning: using the pretrained similarity metric on new classes\n",
    "\n",
    "We now want to see how the network performs on images from unseen classes, i.e. sevens, eights and nines.\n",
    "\n",
    "Following the approach described by Koch et al., we chose 10 images ($i_0, i_1,...,i_9$), one per class. We then classify an image by comparing it pairwise with the images $i_0,...,i_9$.\n",
    "\n",
    "But first, let's chose 10 reference images."
   ]
  },
  {
   "cell_type": "code",
   "execution_count": 85,
   "metadata": {
    "collapsed": true
   },
   "outputs": [],
   "source": [
    "one_example_per_class = []\n",
    "for digit in data.digits:\n",
    "    one_example_per_class.append(getattr(data, digit)[np.random.randint(len(getattr(data, digit)))])"
   ]
  },
  {
   "cell_type": "markdown",
   "metadata": {},
   "source": [
    "Below, we display the 10 images we use ($i_0,...,i_9$) as a benchmark for pairwise comparisons."
   ]
  },
  {
   "cell_type": "code",
   "execution_count": 86,
   "metadata": {
    "collapsed": false
   },
   "outputs": [
    {
     "data": {
      "image/png": "[encoded data removed]",
      "text/plain": [
       "<matplotlib.figure.Figure at 0x11e9c6e90>"
      ]
     },
     "metadata": {},
     "output_type": "display_data"
    }
   ],
   "source": [
    "fig = plt.figure(figsize=(7,2))\n",
    "for i in range(1, 11):\n",
    "    a = fig.add_subplot(2, 5, i)\n",
    "    a.axis('off')\n",
    "    image = one_example_per_class[i - 1].reshape((28, 28)) # reshape the image from (784) to (28, 28).\n",
    "    a.imshow(image, cmap='Greys_r');"
   ]
  },
  {
   "cell_type": "markdown",
   "metadata": {},
   "source": [
    "We retrieve the model trained above, and we classify images of 7, 8 and 9 by comparing them with the benchmark images $i_0,...,i_9$. We report the accuracy of the classifcation on the *unseen* classes and on the *seen* classes."
   ]
  },
  {
   "cell_type": "code",
   "execution_count": 87,
   "metadata": {
    "collapsed": false
   },
   "outputs": [],
   "source": [
    "def reshape_input(image):\n",
    "    \"\"\"\n",
    "    Takes a `numpy array` of shape (784) and reshape it\n",
    "    into a `numpy array` of shape (1, 28, 28).\n",
    "    \"\"\"\n",
    "    return np.expand_dims(image.reshape((28,28)), axis=0)\n",
    "\n",
    "def reshape_label(label):\n",
    "    \"\"\"\n",
    "    Argss:\n",
    "        label: a list of two elements.\n",
    "    \"\"\"\n",
    "    if label[0] == label[1]:\n",
    "        return np.expand_dims(np.asarray([1, 0]),axis=0)\n",
    "    else:\n",
    "        return np.expand_dims(np.asarray([0, 1]),axis=0)"
   ]
  },
  {
   "cell_type": "code",
   "execution_count": 91,
   "metadata": {
    "collapsed": true
   },
   "outputs": [],
   "source": [
    "def compare_two_digits(digit1, digit2, label1, label2, sess):\n",
    "    true_y = 'different'\n",
    "    if label1 == label2:\n",
    "        true_y = 'same'\n",
    "    label = reshape_label([label1, label2])\n",
    "    feed_dict = {x1: digit1, x2: digit2, y: label, keep_prob: 1.0}\n",
    "    logits_, accuracy_test = sess.run([logits, accuracy], feed_dict=feed_dict)\n",
    "    predicted_y = 'different'\n",
    "    if np.argmax(logits_[0]) == 0:\n",
    "         predicted_y = 'same'\n",
    "    return true_y, predicted_y"
   ]
  },
  {
   "cell_type": "code",
   "execution_count": 98,
   "metadata": {
    "collapsed": true
   },
   "outputs": [],
   "source": [
    "one_example_per_class = [reshape_input(x) for x in one_example_per_class]"
   ]
  },
  {
   "cell_type": "code",
   "execution_count": 113,
   "metadata": {
    "collapsed": false
   },
   "outputs": [
    {
     "name": "stdout",
     "output_type": "stream",
     "text": [
      "models/one_shot_learning/snapshot_10000.ckpt was restored.\n",
      "Comparing 0 with 7: different\n",
      "Comparing 1 with 7: different\n",
      "Comparing 2 with 7: same\n",
      "Comparing 3 with 7: same\n",
      "Comparing 4 with 7: different\n",
      "Comparing 5 with 7: different\n",
      "Comparing 6 with 7: different\n",
      "Comparing 7 with 7: different\n",
      "Comparing 8 with 7: same\n",
      "Comparing 9 with 7: different\n"
     ]
    }
   ],
   "source": [
    "checkpoint_dir = 'models/one_shot_learning/'\n",
    "with tf.Session() as sess:\n",
    "    latest_checkpoint = tf.train.latest_checkpoint(checkpoint_dir=checkpoint_dir)\n",
    "    saver.restore(sess, latest_checkpoint)\n",
    "    print('%s was restored.' % latest_checkpoint)\n",
    "    digit1 = reshape_input(data.sevens[100])\n",
    "    for i in range(10):\n",
    "        digit2 = reshape_input(one_example_per_class[i])\n",
    "        true_y, predicted_y = compare_two_digits(digit1, digit2, 7, i, sess)\n",
    "        print 'Comparing %i with 7:' %i, predicted_y"
   ]
  },
  {
   "cell_type": "code",
   "execution_count": 74,
   "metadata": {
    "collapsed": false
   },
   "outputs": [
    {
     "data": {
      "text/plain": [
       "[2.24756432, 0.03931087]"
      ]
     },
     "execution_count": 74,
     "metadata": {},
     "output_type": "execute_result"
    }
   ],
   "source": [
    "a = [[ 2.24756432,  0.03931087]]\n",
    "a[0]"
   ]
  }
 ],
 "metadata": {
  "kernelspec": {
   "display_name": "Python 2",
   "language": "python",
   "name": "python2"
  },
  "language_info": {
   "codemirror_mode": {
    "name": "ipython",
    "version": 2
   },
   "file_extension": ".py",
   "mimetype": "text/x-python",
   "name": "python",
   "nbconvert_exporter": "python",
   "pygments_lexer": "ipython2",
   "version": "2.7.11"
  }
 },
 "nbformat": 4,
 "nbformat_minor": 0
}
