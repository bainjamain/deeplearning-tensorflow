{
 "cells": [
  {
   "cell_type": "markdown",
   "metadata": {},
   "source": [
    "# Vanilla Feedforward Neural Network"
   ]
  },
  {
   "cell_type": "markdown",
   "metadata": {},
   "source": [
    "Let's train our first neural network."
   ]
  },
  {
   "cell_type": "code",
   "execution_count": 1,
   "metadata": {
    "collapsed": true
   },
   "outputs": [],
   "source": [
    "import tensorflow as tf\n",
    "import numpy as np\n",
    "from tensorflow.examples.tutorials.mnist import input_data\n",
    "from itertools import izip"
   ]
  },
  {
   "cell_type": "markdown",
   "metadata": {},
   "source": [
    "## The data set: MNIST\n",
    "The MNIST data set is a labeled data set consisting in 70,000 handwritten digits (see http://yann.lecun.com/exdb/mnist/ for more information). It is often used to benchmarck classification algorithms."
   ]
  },
  {
   "cell_type": "code",
   "execution_count": 2,
   "metadata": {
    "collapsed": false
   },
   "outputs": [
    {
     "name": "stdout",
     "output_type": "stream",
     "text": [
      "Successfully downloaded train-images-idx3-ubyte.gz 9912422 bytes.\n",
      "Extracting MNIST/train-images-idx3-ubyte.gz\n",
      "Successfully downloaded train-labels-idx1-ubyte.gz 28881 bytes.\n",
      "Extracting MNIST/train-labels-idx1-ubyte.gz\n",
      "Successfully downloaded t10k-images-idx3-ubyte.gz 1648877 bytes.\n",
      "Extracting MNIST/t10k-images-idx3-ubyte.gz\n",
      "Successfully downloaded t10k-labels-idx1-ubyte.gz 4542 bytes.\n",
      "Extracting MNIST/t10k-labels-idx1-ubyte.gz\n"
     ]
    }
   ],
   "source": [
    "data = input_data.read_data_sets(\"MNIST/\", one_hot=True, validation_size=0)\n",
    "x_train, y_train = data.train.images, data.train.labels\n",
    "x_test, y_test = data.test.images, data.test.labels"
   ]
  },
  {
   "cell_type": "markdown",
   "metadata": {},
   "source": [
    "## Creating the network\n",
    "\n",
    "Some hyperparameters of the network."
   ]
  },
  {
   "cell_type": "code",
   "execution_count": 3,
   "metadata": {
    "collapsed": true
   },
   "outputs": [],
   "source": [
    "n_input = 784 # size of the input, i.e. dimension of an image 28*28 = 784\n",
    "hidden_units1 = 128 # number of hidden units for the first layer\n",
    "hidden_units2 = 128 # and for the second layer\n",
    "n_classes = 10 # number of classes, i.e. digits from 0 to 9."
   ]
  },
  {
   "cell_type": "code",
   "execution_count": 4,
   "metadata": {
    "collapsed": true
   },
   "outputs": [],
   "source": [
    "# placeholders to feed the data to the network\n",
    "images = tf.placeholder(tf.float32, shape=[None, n_input])\n",
    "labels = tf.placeholder(tf.int64, shape=[None, n_classes]) # e.g. digit 6 is encoder as `[0,0,0,0,0,0,1,0,0,0]`"
   ]
  },
  {
   "cell_type": "markdown",
   "metadata": {},
   "source": [
    "We create a simple network with two hidden layers."
   ]
  },
  {
   "cell_type": "code",
   "execution_count": 5,
   "metadata": {
    "collapsed": false
   },
   "outputs": [],
   "source": [
    "# layer 1\n",
    "w1 = tf.get_variable('weigths_1', shape=[n_input, hidden_units1],\n",
    "                     initializer=tf.random_normal_initializer(stddev=1.0))\n",
    "b1 = tf.get_variable('biases_1', shape=[hidden_units1])\n",
    "layer1 = tf.matmul(images, w1) + b1\n",
    "layer1 = tf.nn.relu(layer1) # non linearity\n",
    "\n",
    "# layer 2\n",
    "w2 = tf.get_variable('weigths_2', shape=[hidden_units1, hidden_units2],\n",
    "            initializer=tf.random_normal_initializer(stddev=1.0 / np.sqrt(hidden_units1)))\n",
    "b2 = tf.get_variable('biases_2', shape=[hidden_units2])\n",
    "layer2 = tf.matmul(layer1, w2) + b2\n",
    "layer2 = tf.nn.relu(layer2) # non linearity\n",
    "\n",
    "# output layer\n",
    "w3 = tf.get_variable('weigths_3', shape=[hidden_units2, n_classes],\n",
    "            initializer=tf.random_normal_initializer(stddev=1.0 / np.sqrt(hidden_units2)))\n",
    "b3 = tf.get_variable('biases_3', shape=[n_classes])\n",
    "output = tf.matmul(layer2, w3) + b3"
   ]
  },
  {
   "cell_type": "markdown",
   "metadata": {},
   "source": [
    "Creation of the loss and the optimizer."
   ]
  },
  {
   "cell_type": "code",
   "execution_count": 6,
   "metadata": {
    "collapsed": false
   },
   "outputs": [],
   "source": [
    "logits = tf.nn.softmax_cross_entropy_with_logits(logits=output, labels=labels)\n",
    "loss = tf.reduce_mean(logits)\n",
    "optimizer = tf.train.AdamOptimizer().minimize(loss)\n",
    "\n",
    "# calculate the accuracy\n",
    "correct_pred = tf.equal(tf.argmax(output, 1), tf.argmax(labels, 1))\n",
    "accuracy = tf.reduce_mean(tf.cast(correct_pred, tf.float32))"
   ]
  },
  {
   "cell_type": "markdown",
   "metadata": {},
   "source": [
    "Helper functions to get random batches of data to train the network on."
   ]
  },
  {
   "cell_type": "code",
   "execution_count": 7,
   "metadata": {
    "collapsed": false
   },
   "outputs": [
    {
     "name": "stderr",
     "output_type": "stream",
     "text": [
      "<ipython-input-7-8d48d57464ac>:11: SyntaxWarning: name 'iterator' is used prior to global declaration\n",
      "  global iterator\n"
     ]
    }
   ],
   "source": [
    "def get_next_batch_iterator(batch_size):\n",
    "    span = range(x_train.shape[0])\n",
    "    np.random.shuffle(span)\n",
    "    args = [iter(span)] * batch_size\n",
    "    return izip(*args)\n",
    "\n",
    "def get_next_batch(batch_size):\n",
    "    try:\n",
    "        indexes = iterator.next()\n",
    "    except:\n",
    "        global iterator\n",
    "        iterator = get_next_batch_iterator(batch_size)\n",
    "        indexes = iterator.next()\n",
    "    return np.asarray([x_train[i] for i in indexes]),\\\n",
    "            np.asarray([y_train[i] for i in indexes])"
   ]
  },
  {
   "cell_type": "markdown",
   "metadata": {},
   "source": [
    "And we finally train the network."
   ]
  },
  {
   "cell_type": "code",
   "execution_count": 8,
   "metadata": {
    "collapsed": false
   },
   "outputs": [
    {
     "name": "stdout",
     "output_type": "stream",
     "text": [
      "TEST: step 50, loss 0.977, accuracy 0.69\n",
      "TEST: step 100, loss 0.672, accuracy 0.79\n",
      "TEST: step 150, loss 0.553, accuracy 0.83\n",
      "TEST: step 200, loss 0.500, accuracy 0.85\n",
      "TEST: step 250, loss 0.479, accuracy 0.86\n",
      "TEST: step 300, loss 0.460, accuracy 0.86\n",
      "TEST: step 350, loss 0.392, accuracy 0.88\n",
      "TEST: step 400, loss 0.399, accuracy 0.88\n",
      "TEST: step 450, loss 0.359, accuracy 0.89\n",
      "TEST: step 500, loss 0.375, accuracy 0.89\n",
      "TEST: step 550, loss 0.317, accuracy 0.90\n",
      "TEST: step 600, loss 0.316, accuracy 0.90\n",
      "TEST: step 650, loss 0.328, accuracy 0.90\n",
      "TEST: step 700, loss 0.303, accuracy 0.91\n",
      "TEST: step 750, loss 0.296, accuracy 0.91\n",
      "TEST: step 800, loss 0.293, accuracy 0.91\n",
      "TEST: step 850, loss 0.279, accuracy 0.92\n",
      "TEST: step 900, loss 0.317, accuracy 0.90\n",
      "TEST: step 950, loss 0.274, accuracy 0.92\n",
      "TEST: step 1000, loss 0.248, accuracy 0.93\n"
     ]
    }
   ],
   "source": [
    "steps_n = 1000\n",
    "batch_size = 32\n",
    "with tf.Session() as sess:\n",
    "    sess.run(tf.global_variables_initializer())\n",
    "    for i in range(1, steps_n + 1):\n",
    "        images_batch, labels_batch = get_next_batch(batch_size)\n",
    "        feed_dict = {images: images_batch, labels: labels_batch}\n",
    "        sess.run([optimizer], feed_dict=feed_dict)\n",
    "        if i % 50 == 0:\n",
    "            feed_dict = {images: x_test, labels: y_test}\n",
    "            loss_, accuracy_ = sess.run([loss, accuracy], feed_dict=feed_dict)\n",
    "            print('TEST: step %i, loss %.3f, accuracy %.2f' % (i, loss_, accuracy_))"
   ]
  }
 ],
 "metadata": {
  "kernelspec": {
   "display_name": "Python 2",
   "language": "python",
   "name": "python2"
  },
  "language_info": {
   "codemirror_mode": {
    "name": "ipython",
    "version": 2
   },
   "file_extension": ".py",
   "mimetype": "text/x-python",
   "name": "python",
   "nbconvert_exporter": "python",
   "pygments_lexer": "ipython2",
   "version": "2.7.11"
  }
 },
 "nbformat": 4,
 "nbformat_minor": 0
}
