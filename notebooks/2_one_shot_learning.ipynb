{
 "cells": [
  {
   "cell_type": "markdown",
   "metadata": {},
   "source": [
    "# One shot learning (UNFINISHED, expected to be finished before September 8th 2016).\n",
    "\n",
    "Imagine we have a bunch of classes, say 10 classes, and we'd like to perform a classification task. However, we only have a good amount of data for 7 classes out of 10. For the other 3 classes, there's only a very limited number of examples (say 1 or 2 examples for instance). The idea of *one shot learning* is to train a network on the classes for which we have a lot of data and use this trained network to classify examples from the classes for which it wasn't trained on. Here, we mostly follow the approach described in *Siamese Neural Networks for One-shot Image Recognition* by Koch et al.\n",
    "\n",
    "We use a siamese architecture that we train on the MNIST data set. More specifically, we only train the netowk on digits from 0 to 6. The network will take two images and answer the following question: **do the two inputs belong to the same class?** After the training has been completed, we try to classify the digits 7, 8 and 9 by comparing the testing examples to the very limited labeled data we have for these classes.\n",
    "\n",
    "For more details on *siamese architecture*, I refer the interested reader to the implementation of a siamese network in the notebook **siamese**."
   ]
  },
  {
   "cell_type": "code",
   "execution_count": 3,
   "metadata": {
    "collapsed": true
   },
   "outputs": [],
   "source": [
    "import sys\n",
    "import os\n",
    "import tensorflow as tf\n",
    "import numpy as np\n",
    "import matplotlib.pyplot as plt\n",
    "sys.path.insert(0, '../data_processing/')\n",
    "from siamese_data import MNIST # load the data and process it\n",
    "%matplotlib inline"
   ]
  },
  {
   "cell_type": "markdown",
   "metadata": {},
   "source": [
    "We load the data."
   ]
  },
  {
   "cell_type": "code",
   "execution_count": 4,
   "metadata": {
    "collapsed": true
   },
   "outputs": [],
   "source": [
    "data = MNIST()"
   ]
  },
  {
   "cell_type": "markdown",
   "metadata": {},
   "source": [
    "## Learning a similarity metric with a siamese network\n",
    "\n",
    "We are going to implement a siamese architecture similar to the one described in the **siamese notebook**, but we are going to use convolutional neural networks instead of LSTM."
   ]
  },
  {
   "cell_type": "code",
   "execution_count": 5,
   "metadata": {
    "collapsed": false
   },
   "outputs": [],
   "source": [
    "n_classes = 2 # two possible classes, either `same` of `different`"
   ]
  },
  {
   "cell_type": "code",
   "execution_count": 6,
   "metadata": {
    "collapsed": true
   },
   "outputs": [],
   "source": [
    "x1 = tf.placeholder(tf.float32, shape=[None, 28, 28, 1]) # placeholder for the first network (image 1)\n",
    "x2 = tf.placeholder(tf.float32, shape=[None, 28, 28, 1]) # placeholder for the second network (image 2)\n",
    "\n",
    "# placeholder for the label. `[1, 0]` for `same` and `[0, 1]` for `different`.\n",
    "y = tf.placeholder(tf.int64, shape=[None])\n",
    "\n",
    "# placeholder for dropout (we could use different dropouts for different part of the architecture)\n",
    "keep_prob = tf.placeholder(tf.float32)"
   ]
  },
  {
   "cell_type": "code",
   "execution_count": 7,
   "metadata": {
    "collapsed": false
   },
   "outputs": [],
   "source": [
    "def conv_2d(x, kernel_shape, stride, padding='SAME'):\n",
    "    strides = [1, stride, stride, 1]\n",
    "    K = tf.get_variable(name='weights', shape=kernel_shape, initializer=tf.random_normal_initializer())\n",
    "    b = tf.get_variable(name='biases', shape=kernel_shape[-1], initializer=tf.constant_initializer(0.))\n",
    "    conv = tf.nn.conv2d(x, K, strides=strides, padding=padding)\n",
    "    conv += b\n",
    "    print(conv.get_shape())\n",
    "    return tf.nn.relu6(conv, name='relu6')\n",
    "\n",
    "def maxpool(x, pool, stride, padding='SAME'):\n",
    "    ksize = [1, pool, pool, 1]\n",
    "    strides = [1, stride, stride, 1]\n",
    "    maxpool = tf.nn.max_pool(x, ksize, strides, padding=padding, name='maxpool')\n",
    "    print(maxpool.get_shape())\n",
    "    return maxpool\n",
    "\n",
    "\n",
    "def convnet(x):\n",
    "    with tf.variable_scope('conv1') as scp: # (None, 28, 28, 1)\n",
    "        net = conv_2d(x, [5, 5, 1, 32], stride=1) # (None, 28, 28, 32)\n",
    "        net = maxpool(net, 2, 2, padding='VALID') # (None, 14, 14, 32)\n",
    "    \n",
    "    with tf.variable_scope('conv2') as scp:\n",
    "        net = conv_2d(net, [3, 3, 32, 32], stride=1) # (None, 14, 14, 32)\n",
    "        net = maxpool(net, 2, 2) # (None, 7, 7, 32)\n",
    "        \n",
    "    #with tf.variable_scope('conv3') as scp:\n",
    "    #    net = conv_2d(net, [5, 5, 64, 64], stride=1) # (None, 6, 6, 64)\n",
    "    #    net = maxpool(net, 2, 2) # (None, 3, 3, 64)\n",
    "        \n",
    "    with tf.variable_scope('fully_connected') as scp:\n",
    "        W = tf.get_variable('weights', shape=[7*7*32, 512], initializer=tf.random_normal_initializer())\n",
    "        b = tf.get_variable('biases', shape=[512], initializer=tf.constant_initializer(0.))\n",
    "        net = tf.reshape(net, shape=[-1, 7*7*32])\n",
    "        net = tf.matmul(net, W) + b # (None, 512)\n",
    "        print(net.get_shape())    \n",
    "    return net"
   ]
  },
  {
   "cell_type": "code",
   "execution_count": 8,
   "metadata": {
    "collapsed": false
   },
   "outputs": [
    {
     "name": "stdout",
     "output_type": "stream",
     "text": [
      "(?, 28, 28, 32)\n",
      "(?, 14, 14, 32)\n",
      "(?, 14, 14, 32)\n",
      "(?, 7, 7, 32)\n",
      "(?, 512)\n",
      "(?, 28, 28, 32)\n",
      "(?, 14, 14, 32)\n",
      "(?, 14, 14, 32)\n",
      "(?, 7, 7, 32)\n",
      "(?, 512)\n",
      "(?, 2)\n"
     ]
    }
   ],
   "source": [
    "with tf.variable_scope('siamese_network') as scope:\n",
    "    with tf.name_scope('convnet_1'):\n",
    "        convnet1 = convnet(x1)\n",
    "    with tf.name_scope('convnet_2'):\n",
    "        scope.reuse_variables() # tied weights (reuse the weights from `Bi_LSTM_1` for `Bi_LSTM_2`)\n",
    "        convnet2 = convnet(x2)\n",
    "\n",
    "with tf.name_scope('output') as scp:\n",
    "    net_difference = tf.abs(convnet1 - convnet2)\n",
    "    W = tf.get_variable('weights_' + scp, shape=[512, n_classes], initializer=tf.random_normal_initializer())\n",
    "    b = tf.get_variable('biases_' + scp, shape=[n_classes], initializer=tf.constant_initializer(0.))\n",
    "    logits = tf.matmul(net_difference, W) + b # (None, 2)\n",
    "    print(logits.get_shape())"
   ]
  },
  {
   "cell_type": "code",
   "execution_count": 9,
   "metadata": {
    "collapsed": false
   },
   "outputs": [],
   "source": [
    "loss = tf.reduce_mean(tf.nn.sparse_softmax_cross_entropy_with_logits(logits, y))\n",
    "optimizer = tf.train.AdamOptimizer().minimize(loss)\n",
    "\n",
    "correct_pred = tf.equal(tf.argmax(logits, 1), y) \n",
    "accuracy = tf.reduce_mean(tf.cast(correct_pred, tf.float32))"
   ]
  },
  {
   "cell_type": "code",
   "execution_count": null,
   "metadata": {
    "collapsed": false
   },
   "outputs": [
    {
     "name": "stdout",
     "output_type": "stream",
     "text": [
      "Network training begins.\n",
      "step 50, training loss: 567.46625, training accuracy: 0.594\n",
      "step 100, training loss: 460.99860, training accuracy: 0.648\n",
      "testing step 100, accuracy 0.598\n",
      "step 150, training loss: 555.39789, training accuracy: 0.609\n",
      "step 200, training loss: 376.61969, training accuracy: 0.711\n",
      "testing step 200, accuracy 0.660\n",
      "step 250, training loss: 422.08929, training accuracy: 0.711\n",
      "step 300, training loss: 312.55170, training accuracy: 0.773\n",
      "testing step 300, accuracy 0.721\n",
      "step 350, training loss: 369.71555, training accuracy: 0.688\n",
      "step 400, training loss: 248.51530, training accuracy: 0.797\n",
      "testing step 400, accuracy 0.742\n",
      "step 450, training loss: 254.05536, training accuracy: 0.773\n",
      "step 500, training loss: 317.99246, training accuracy: 0.727\n",
      "testing step 500, accuracy 0.768\n",
      "step 550, training loss: 122.08199, training accuracy: 0.867\n",
      "step 600, training loss: 244.96976, training accuracy: 0.758\n",
      "testing step 600, accuracy 0.787\n",
      "step 650, training loss: 188.65747, training accuracy: 0.805\n",
      "step 700, training loss: 259.33643, training accuracy: 0.789\n",
      "testing step 700, accuracy 0.781\n",
      "step 750, training loss: 145.85623, training accuracy: 0.852\n",
      "step 800, training loss: 157.53432, training accuracy: 0.828\n",
      "testing step 800, accuracy 0.795\n",
      "step 850, training loss: 256.26871, training accuracy: 0.734\n",
      "step 900, training loss: 106.07259, training accuracy: 0.852\n",
      "testing step 900, accuracy 0.793\n",
      "step 950, training loss: 189.41411, training accuracy: 0.766\n",
      "step 1000, training loss: 127.49141, training accuracy: 0.844\n",
      "testing step 1000, accuracy 0.840\n",
      "Snapshot saved in file: models/one_shot_learning/snapshot_1000.ckpt\n",
      "step 1050, training loss: 161.66805, training accuracy: 0.805\n",
      "step 1100, training loss: 192.64824, training accuracy: 0.789\n",
      "testing step 1100, accuracy 0.834\n",
      "step 1150, training loss: 115.26273, training accuracy: 0.859\n",
      "step 1200, training loss: 130.36078, training accuracy: 0.852\n",
      "testing step 1200, accuracy 0.834\n",
      "step 1250, training loss: 128.12018, training accuracy: 0.812\n",
      "step 1300, training loss: 108.27444, training accuracy: 0.844\n",
      "testing step 1300, accuracy 0.822\n",
      "step 1350, training loss: 96.83798, training accuracy: 0.859\n",
      "step 1400, training loss: 109.65453, training accuracy: 0.883\n",
      "testing step 1400, accuracy 0.826\n",
      "step 1450, training loss: 164.37482, training accuracy: 0.852\n",
      "step 1500, training loss: 72.27312, training accuracy: 0.891\n",
      "testing step 1500, accuracy 0.852\n",
      "step 1550, training loss: 137.40627, training accuracy: 0.750\n",
      "step 1600, training loss: 123.37108, training accuracy: 0.852\n",
      "testing step 1600, accuracy 0.861\n",
      "step 1650, training loss: 116.52699, training accuracy: 0.828\n",
      "step 1700, training loss: 85.49183, training accuracy: 0.891\n",
      "testing step 1700, accuracy 0.832\n",
      "step 1750, training loss: 83.36659, training accuracy: 0.867\n",
      "step 1800, training loss: 107.91368, training accuracy: 0.828\n",
      "testing step 1800, accuracy 0.844\n",
      "step 1850, training loss: 96.25647, training accuracy: 0.891\n",
      "step 1900, training loss: 109.33672, training accuracy: 0.867\n",
      "testing step 1900, accuracy 0.879\n",
      "step 1950, training loss: 130.26120, training accuracy: 0.844\n",
      "step 2000, training loss: 76.29360, training accuracy: 0.867\n",
      "testing step 2000, accuracy 0.850\n",
      "Snapshot saved in file: models/one_shot_learning/snapshot_2000.ckpt\n",
      "step 2050, training loss: 109.24303, training accuracy: 0.812\n",
      "step 2100, training loss: 188.05499, training accuracy: 0.758\n",
      "testing step 2100, accuracy 0.873\n",
      "step 2150, training loss: 55.33296, training accuracy: 0.898\n",
      "step 2200, training loss: 149.57762, training accuracy: 0.820\n",
      "testing step 2200, accuracy 0.865\n",
      "step 2250, training loss: 121.87992, training accuracy: 0.828\n",
      "step 2300, training loss: 132.73341, training accuracy: 0.844\n",
      "testing step 2300, accuracy 0.877\n",
      "step 2350, training loss: 64.91198, training accuracy: 0.898\n",
      "step 2400, training loss: 84.76140, training accuracy: 0.828\n",
      "testing step 2400, accuracy 0.857\n",
      "step 2450, training loss: 173.74329, training accuracy: 0.836\n"
     ]
    }
   ],
   "source": [
    "init = tf.initialize_all_variables()\n",
    "\n",
    "max_iter = 10000 # maximum number of iterations for training\n",
    "batch_train = 128 # batch size for training\n",
    "batch_test = 512 # batch size for testing\n",
    "display = 50 # display the training loss and accuracy every `display` step\n",
    "n_test = 100 # test the network every `n_test` step\n",
    "\n",
    "n_snapshot = 1000 # save the weights every `n_snapshot` step\n",
    "checkpoint_dir = 'models/one_shot_learning/'\n",
    "saver = tf.train.Saver() # to save the trained model\n",
    "\n",
    "with tf.Session() as sess:\n",
    "    sess.run(init) # initialize all variables\n",
    "    print('Network training begins.')\n",
    "    for i in range(1, max_iter + 1):\n",
    "        # We retrieve a batch of data from the training set (digits between 0 and 6)\n",
    "        batch_x1, batch_x2, batch_y = data.get_next_batch(batch_train, phase='train', one_shot=True)\n",
    "        batch_x1, batch_x2 = np.expand_dims(batch_x1, axis=3), np.expand_dims(batch_x2, axis=3)\n",
    "        # We feed the data to the network for training\n",
    "        feed_dict = {x1: batch_x1, x2: batch_x2, y: batch_y, keep_prob: .9}\n",
    "        _, loss_, accuracy_ = sess.run([optimizer, loss, accuracy], feed_dict=feed_dict)\n",
    "        \n",
    "        if i % display == 0:\n",
    "            print('step %i, training loss: %.5f, training accuracy: %.3f' % (i, loss_, accuracy_))\n",
    "        \n",
    "        # Testing the network\n",
    "        if i % n_test == 0:\n",
    "            # Retrieving data from the test set\n",
    "            batch_x1, batch_x2, batch_y = data.get_next_batch(batch_test, phase='test', one_shot=True)\n",
    "            batch_x1, batch_x2 = np.expand_dims(batch_x1, axis=3), np.expand_dims(batch_x2, axis=3)\n",
    "            feed_dict = {x1: batch_x1, x2: batch_x2, y: batch_y, keep_prob: 1.0}\n",
    "            accuracy_test = sess.run(accuracy, feed_dict=feed_dict)\n",
    "            print('testing step %i, accuracy %.3f' % (i, accuracy_test))\n",
    "        \n",
    "        # We save a snapshot of the weights\n",
    "        if i % n_snapshot == 0:\n",
    "            save_path = saver.save(sess, os.path.join(checkpoint_dir,'snapshot_') + str(i) + '.ckpt')\n",
    "            print('Snapshot saved in file: %s' % save_path)\n",
    "\n",
    "    print('********************************')\n",
    "    print('Training finished.')"
   ]
  },
  {
   "cell_type": "code",
   "execution_count": 9,
   "metadata": {
    "collapsed": false
   },
   "outputs": [
    {
     "name": "stdout",
     "output_type": "stream",
     "text": [
      "(512, 28, 28, 1)\n",
      "(512, 28, 28, 1, 1)\n"
     ]
    }
   ],
   "source": [
    "print batch_x1.shape\n",
    "print np.expand_dims(batch_x1, axis=3).shape"
   ]
  },
  {
   "cell_type": "markdown",
   "metadata": {},
   "source": [
    "## One shot learning: using the pretrained similarity metric on new classes\n",
    "\n",
    "We now want to see how the network performs on images from unseen classes, i.e. sevens, eights and nines.\n",
    "\n",
    "Following the approach described by Koch et al., we chose 10 images ($i_0, i_1,...,i_9$), one per class. We then classify an image by comparing it pairwise with the images $i_0,...,i_9$.\n",
    "\n",
    "But first, let's chose 10 reference images."
   ]
  },
  {
   "cell_type": "code",
   "execution_count": 10,
   "metadata": {
    "collapsed": true
   },
   "outputs": [],
   "source": [
    "one_example_per_class = []\n",
    "for digit in data.digits:\n",
    "    one_example_per_class.append(getattr(data, digit)[np.random.randint(len(getattr(data, digit)))])"
   ]
  },
  {
   "cell_type": "markdown",
   "metadata": {},
   "source": [
    "Below, we display the 10 images we use ($i_0,...,i_9$) as a benchmark for pairwise comparisons."
   ]
  },
  {
   "cell_type": "code",
   "execution_count": 11,
   "metadata": {
    "collapsed": false
   },
   "outputs": [
    {
     "data": {
      "image/png": "[encoded data removed]",
      "text/plain": [
       "<matplotlib.figure.Figure at 0x11b656310>"
      ]
     },
     "metadata": {},
     "output_type": "display_data"
    }
   ],
   "source": [
    "fig = plt.figure(figsize=(7,2))\n",
    "for i in range(1, 11):\n",
    "    a = fig.add_subplot(2, 5, i)\n",
    "    a.axis('off')\n",
    "    image = one_example_per_class[i - 1].reshape((28, 28)) # reshape the image from (784) to (28, 28).\n",
    "    a.imshow(image, cmap='Greys_r');"
   ]
  },
  {
   "cell_type": "markdown",
   "metadata": {},
   "source": [
    "We retrieve the model trained above, and we classify images of 7, 8 and 9 by comparing them with the benchmark images $i_0,...,i_9$. We report the accuracy of the classifcation on the *unseen* classes and on the *seen* classes."
   ]
  },
  {
   "cell_type": "code",
   "execution_count": 16,
   "metadata": {
    "collapsed": false
   },
   "outputs": [],
   "source": [
    "def reshape_input(image):\n",
    "    \"\"\"\n",
    "    Takes a `numpy array` of shape (784) and reshape it\n",
    "    into a `numpy array` of shape (1, 28, 28).\n",
    "    \"\"\"\n",
    "    image = np.expand_dims(image.reshape((28,28)), axis=0)\n",
    "    return np.expand_dims(image, axis=3)\n",
    "\n",
    "def reshape_label(label):\n",
    "    \"\"\"\n",
    "    Argss:\n",
    "        label: a list of two elements.\n",
    "    \"\"\"\n",
    "    if label[0] == label[1]:\n",
    "        return np.expand_dims(np.asarray(1),axis=0)\n",
    "    else:\n",
    "        return np.expand_dims(np.asarray(0),axis=0)"
   ]
  },
  {
   "cell_type": "code",
   "execution_count": 24,
   "metadata": {
    "collapsed": true
   },
   "outputs": [],
   "source": [
    "def compare_two_digits(digit1, digit2, label1, label2, sess):\n",
    "    true_y = 'different'\n",
    "    if label1 == label2:\n",
    "        true_y = 'same'\n",
    "    label = reshape_label([label1, label2])\n",
    "    feed_dict = {x1: digit1, x2: digit2, y: label, keep_prob: 1.0}\n",
    "    logits_, accuracy_test = sess.run([logits, accuracy], feed_dict=feed_dict)\n",
    "    predicted_y = 'different'\n",
    "    if np.argmax(logits_[0]) == 1:\n",
    "         predicted_y = 'same'\n",
    "    return true_y, predicted_y"
   ]
  },
  {
   "cell_type": "code",
   "execution_count": 18,
   "metadata": {
    "collapsed": true
   },
   "outputs": [],
   "source": [
    "one_example_per_class = [reshape_input(x) for x in one_example_per_class]"
   ]
  },
  {
   "cell_type": "code",
   "execution_count": 42,
   "metadata": {
    "collapsed": false
   },
   "outputs": [
    {
     "name": "stdout",
     "output_type": "stream",
     "text": [
      "models/one_shot_learning/snapshot_10000.ckpt was restored.\n",
      "Comparing 0 with 7: different\n",
      "Comparing 1 with 7: different\n",
      "Comparing 2 with 7: different\n",
      "Comparing 3 with 7: different\n",
      "Comparing 4 with 7: different\n",
      "Comparing 5 with 7: same\n",
      "Comparing 6 with 7: different\n",
      "Comparing 7 with 7: different\n",
      "Comparing 8 with 7: same\n",
      "Comparing 9 with 7: same\n"
     ]
    }
   ],
   "source": [
    "checkpoint_dir = 'models/one_shot_learning/'\n",
    "with tf.Session() as sess:\n",
    "    latest_checkpoint = tf.train.latest_checkpoint(checkpoint_dir=checkpoint_dir)\n",
    "    saver.restore(sess, latest_checkpoint)\n",
    "    print('%s was restored.' % latest_checkpoint)\n",
    "    digit1 = reshape_input(data.eights_test[222])\n",
    "    for i in range(10):\n",
    "        digit2 = reshape_input(one_example_per_class[i])\n",
    "        true_y, predicted_y = compare_two_digits(digit1, digit2, 8, i, sess)\n",
    "        print 'Comparing %i with 7:' %i, predicted_y"
   ]
  },
  {
   "cell_type": "code",
   "execution_count": null,
   "metadata": {
    "collapsed": false
   },
   "outputs": [],
   "source": [
    "a = [[ 2.24756432,  0.03931087]]\n",
    "a[0]"
   ]
  }
 ],
 "metadata": {
  "kernelspec": {
   "display_name": "Python 2",
   "language": "python",
   "name": "python2"
  },
  "language_info": {
   "codemirror_mode": {
    "name": "ipython",
    "version": 2
   },
   "file_extension": ".py",
   "mimetype": "text/x-python",
   "name": "python",
   "nbconvert_exporter": "python",
   "pygments_lexer": "ipython2",
   "version": "2.7.11"
  }
 },
 "nbformat": 4,
 "nbformat_minor": 0
}
