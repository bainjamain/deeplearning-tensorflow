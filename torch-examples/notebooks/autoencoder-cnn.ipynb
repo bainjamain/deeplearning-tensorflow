{
 "cells": [
  {
   "cell_type": "markdown",
   "metadata": {},
   "source": [
    "## Autoencoder with Convolutional Neural Networks"
   ]
  },
  {
   "cell_type": "markdown",
   "metadata": {},
   "source": [
    "Simple tutorial to train an [autoencoder](https://en.wikipedia.org/wiki/Autoencoder) with convolutional neural networks in Torch.\n",
    "\n",
    "As a toy dataset, we will use the common MNIST dataset. More information about MNIST can be found at http://yann.lecun.com/exdb/mnist/."
   ]
  },
  {
   "cell_type": "markdown",
   "metadata": {},
   "source": [
    "First, we import some dependecies."
   ]
  },
  {
   "cell_type": "code",
   "execution_count": 1,
   "metadata": {
    "collapsed": false
   },
   "outputs": [],
   "source": [
    "require 'torch'\n",
    "require 'nn'\n",
    "require 'optim'\n",
    "mnist = require 'mnist'"
   ]
  },
  {
   "cell_type": "markdown",
   "metadata": {},
   "source": [
    "We load and shuffle the data."
   ]
  },
  {
   "cell_type": "code",
   "execution_count": 2,
   "metadata": {
    "collapsed": true
   },
   "outputs": [],
   "source": [
    "train_data = mnist.traindataset()\n",
    "test_data = mnist.testdataset()\n",
    "\n",
    "perm = torch.randperm(train_data.label:size(1)):long()\n",
    "train_data.data = train_data.data:index(1, perm):float()\n",
    "train_data.label = train_data.label:index(1, perm)\n",
    "\n",
    "test_data.data = test_data.data:float()"
   ]
  },
  {
   "cell_type": "markdown",
   "metadata": {},
   "source": [
    "We print one image as an example."
   ]
  },
  {
   "cell_type": "code",
   "execution_count": 3,
   "metadata": {
    "collapsed": false
   },
   "outputs": [
    {
     "data": {
      "image/png": "[encoded data removed]",
      "text/plain": [
       "Console does not support images"
      ]
     },
     "metadata": {
      "image/png": {
       "height": 28,
       "width": 28
      }
     },
     "output_type": "display_data"
    },
    {
     "data": {
      "text/plain": [
       "\n"
      ]
     },
     "execution_count": 3,
     "metadata": {},
     "output_type": "execute_result"
    }
   ],
   "source": [
    "itorch.image(train_data.data[9])"
   ]
  },
  {
   "cell_type": "markdown",
   "metadata": {},
   "source": [
    "We create the network and print the network's architecture."
   ]
  },
  {
   "cell_type": "code",
   "execution_count": 4,
   "metadata": {
    "collapsed": false
   },
   "outputs": [],
   "source": [
    "function create_model()\n",
    "    net = nn.Sequential() -- input (1, 28, 28)\n",
    "    \n",
    "    -- encoder\n",
    "    net:add(nn.Reshape(1, 28, 28)) -- (1, 28, 28)\n",
    "    net:add(nn.SpatialConvolution(1, 8, 5, 5)) -- (8, 24, 24)\n",
    "    net:add(nn.ReLU())\n",
    "    net:add(nn.SpatialConvolution(8, 16, 5, 5)) --  (16, 20, 20)\n",
    "    net:add(nn.ReLU())\n",
    "    net:add(nn.SpatialMaxPooling(2, 2, 2, 2)) -- (16, 10, 10)\n",
    "    net:add(nn.Reshape(16*10*10))\n",
    "\n",
    "    -- code / low-dimensional representation\n",
    "    net:add(nn.Linear(16*10*10, 128))\n",
    "    net:add(nn.ReLU())\n",
    "    \n",
    "    -- decoder\n",
    "    net:add(nn.Linear(128, 16*10*10))\n",
    "    net:add(nn.ReLU())\n",
    "    net:add(nn.Reshape(16, 10, 10)) -- (16, 10, 10)\n",
    "    net:add(nn.SpatialUpSamplingNearest(2)) -- (16, 20, 20)\n",
    "    net:add(nn.SpatialZeroPadding(4, 4, 4, 4)) -- (16, 28, 28)\n",
    "    net:add(nn.SpatialConvolution(16, 8, 5, 5)) -- (8, 24, 24)\n",
    "    net:add(nn.ReLU())\n",
    "    net:add(nn.SpatialZeroPadding(4, 4, 4, 4)) -- (8, 32, 32)\n",
    "    net:add(nn.SpatialConvolution(8, 1, 5, 5)) -- (1, 28, 28)\n",
    "    return net\n",
    "end"
   ]
  },
  {
   "cell_type": "code",
   "execution_count": 5,
   "metadata": {
    "collapsed": false
   },
   "outputs": [
    {
     "data": {
      "text/plain": [
       "nn.Sequential {\n",
       "  [input -> (1) -> (2) -> (3) -> (4) -> (5) -> (6) -> (7) -> (8) -> (9) -> (10) -> (11) -> (12) -> (13) -> (14) -> (15) -> (16) -> (17) -> (18) -> output]\n",
       "  (1): nn.Reshape(1x28x28)\n",
       "  (2): nn.SpatialConvolution(1 -> 8, 5x5)\n",
       "  (3): nn.ReLU\n",
       "  (4): nn.SpatialConvolution(8 -> 16, 5x5)\n",
       "  (5): nn.ReLU\n",
       "  (6): nn.SpatialMaxPooling(2x2, 2,2)\n",
       "  (7): nn.Reshape(1600)\n",
       "  (8): nn.Linear(1600 -> 128)\n",
       "  (9): nn.ReLU\n",
       "  (10): nn.Linear(128 -> 1600)\n",
       "  (11): nn.ReLU\n",
       "  (12): nn.Reshape(16x10x10)\n",
       "  (13): nn.SpatialUpSamplingNearest\n",
       "  (14): nn.SpatialZeroPadding(l=4, r=4, t=4, b=4)\n",
       "  (15): nn.SpatialConvolution(16 -> 8, 5x5)\n",
       "  (16): nn.ReLU\n",
       "  (17): nn.SpatialZeroPadding(l=4, r=4, t=4, b=4)\n",
       "  (18): nn.SpatialConvolution(8 -> 1, 5x5)\n",
       "}\t\n"
      ]
     },
     "execution_count": 5,
     "metadata": {},
     "output_type": "execute_result"
    }
   ],
   "source": [
    "model = create_model()\n",
    "print(model:__tostring())"
   ]
  },
  {
   "cell_type": "markdown",
   "metadata": {},
   "source": [
    "We create the loss function. We use the *mean squared error* (MSE) to measure the difference between the input and its reconstruction. We aim at minimizing the MSE."
   ]
  },
  {
   "cell_type": "code",
   "execution_count": 6,
   "metadata": {
    "collapsed": true
   },
   "outputs": [],
   "source": [
    "criterion = nn.MSECriterion():float()"
   ]
  },
  {
   "cell_type": "markdown",
   "metadata": {},
   "source": [
    "Defining now hyperparameters related to the network training."
   ]
  },
  {
   "cell_type": "code",
   "execution_count": 7,
   "metadata": {
    "collapsed": false
   },
   "outputs": [],
   "source": [
    "optimState = {learningRate=0.01, momentum=0.5} -- parameters for the (minibatch) gradient descent algorithm\n",
    "\n",
    "batchSize = 128\n",
    "maxEpoch = 20 -- train for 20 epochs\n",
    "\n",
    "display_n = 500000 -- display training loss and accuracy every x step\n",
    "test_n = 500 -- test the model every x step"
   ]
  },
  {
   "cell_type": "code",
   "execution_count": 8,
   "metadata": {
    "collapsed": false
   },
   "outputs": [],
   "source": [
    "-- placeholder for batch\n",
    "X_batch = train_data.data[{{1,batchSize}}]:clone():float()\n",
    "\n",
    "-- placeholder for batch indices\n",
    "batchIndices = torch.LongTensor(batchSize)"
   ]
  },
  {
   "cell_type": "markdown",
   "metadata": {},
   "source": [
    "Optionally, we can cast the model created as well as the different variables on GPU."
   ]
  },
  {
   "cell_type": "code",
   "execution_count": 9,
   "metadata": {
    "collapsed": false
   },
   "outputs": [],
   "source": [
    "-- put on GPU\n",
    "require 'cutorch'\n",
    "require 'cunn'\n",
    "cutorch.setDevice(2) -- chose which GPU to use\n",
    "model = model:cuda()\n",
    "criterion = criterion:cuda()\n",
    "train_data.data = train_data.data:cuda()\n",
    "test_data.data = test_data.data:cuda()\n",
    "X_batch = X_batch:cuda()"
   ]
  },
  {
   "cell_type": "markdown",
   "metadata": {},
   "source": [
    "We now train the network."
   ]
  },
  {
   "cell_type": "code",
   "execution_count": 12,
   "metadata": {
    "collapsed": false
   },
   "outputs": [
    {
     "data": {
      "text/plain": [
       "TEST – epoch 0.00, loss: 7374.7207\t\n"
      ]
     },
     "execution_count": 12,
     "metadata": {},
     "output_type": "execute_result"
    },
    {
     "data": {
      "text/plain": [
       "TEST – epoch 1.07, loss: 1125.9858\t\n"
      ]
     },
     "execution_count": 12,
     "metadata": {},
     "output_type": "execute_result"
    },
    {
     "data": {
      "text/plain": [
       "TEST – epoch 2.14, loss: 836.8282\t\n"
      ]
     },
     "execution_count": 12,
     "metadata": {},
     "output_type": "execute_result"
    },
    {
     "data": {
      "text/plain": [
       "TEST – epoch 3.20, loss: 740.7912\t\n"
      ]
     },
     "execution_count": 12,
     "metadata": {},
     "output_type": "execute_result"
    },
    {
     "data": {
      "text/plain": [
       "TEST – epoch 4.27, loss: 631.6577\t\n"
      ]
     },
     "execution_count": 12,
     "metadata": {},
     "output_type": "execute_result"
    },
    {
     "data": {
      "text/plain": [
       "TEST – epoch 5.34, loss: 567.1810\t\n"
      ]
     },
     "execution_count": 12,
     "metadata": {},
     "output_type": "execute_result"
    },
    {
     "data": {
      "text/plain": [
       "TEST – epoch 6.40, loss: 528.2975\t\n"
      ]
     },
     "execution_count": 12,
     "metadata": {},
     "output_type": "execute_result"
    },
    {
     "data": {
      "text/plain": [
       "TEST – epoch 7.47, loss: 488.4631\t\n"
      ]
     },
     "execution_count": 12,
     "metadata": {},
     "output_type": "execute_result"
    },
    {
     "data": {
      "text/plain": [
       "TEST – epoch 8.54, loss: 467.4915\t\n"
      ]
     },
     "execution_count": 12,
     "metadata": {},
     "output_type": "execute_result"
    },
    {
     "data": {
      "text/plain": [
       "TEST – epoch 9.60, loss: 444.7716\t\n"
      ]
     },
     "execution_count": 12,
     "metadata": {},
     "output_type": "execute_result"
    },
    {
     "data": {
      "text/plain": [
       "TEST – epoch 10.67, loss: 427.7531\t\n"
      ]
     },
     "execution_count": 12,
     "metadata": {},
     "output_type": "execute_result"
    },
    {
     "data": {
      "text/plain": [
       "TEST – epoch 11.74, loss: 416.8958\t\n"
      ]
     },
     "execution_count": 12,
     "metadata": {},
     "output_type": "execute_result"
    },
    {
     "data": {
      "text/plain": [
       "TEST – epoch 12.80, loss: 408.8014\t\n"
      ]
     },
     "execution_count": 12,
     "metadata": {},
     "output_type": "execute_result"
    },
    {
     "data": {
      "text/plain": [
       "TEST – epoch 13.87, loss: 389.0996\t\n"
      ]
     },
     "execution_count": 12,
     "metadata": {},
     "output_type": "execute_result"
    },
    {
     "data": {
      "text/plain": [
       "TEST – epoch 14.94, loss: 379.4833\t\n"
      ]
     },
     "execution_count": 12,
     "metadata": {},
     "output_type": "execute_result"
    },
    {
     "data": {
      "text/plain": [
       "TEST – epoch 16.00, loss: 371.6813\t\n"
      ]
     },
     "execution_count": 12,
     "metadata": {},
     "output_type": "execute_result"
    },
    {
     "data": {
      "text/plain": [
       "TEST – epoch 17.07, loss: 365.9571\t\n"
      ]
     },
     "execution_count": 12,
     "metadata": {},
     "output_type": "execute_result"
    },
    {
     "data": {
      "text/plain": [
       "TEST – epoch 18.14, loss: 355.1981\t\n"
      ]
     },
     "execution_count": 12,
     "metadata": {},
     "output_type": "execute_result"
    },
    {
     "data": {
      "text/plain": [
       "TEST – epoch 19.20, loss: 347.5113\t\n"
      ]
     },
     "execution_count": 12,
     "metadata": {},
     "output_type": "execute_result"
    },
    {
     "data": {
      "text/plain": [
       "TEST – epoch 20.00, loss: 350.0747\t\n"
      ]
     },
     "execution_count": 12,
     "metadata": {},
     "output_type": "execute_result"
    },
    {
     "data": {
      "text/plain": [
       "TEST – epoch 20.00, loss: 347.5504\t\n"
      ]
     },
     "execution_count": 12,
     "metadata": {},
     "output_type": "execute_result"
    }
   ],
   "source": [
    "-- model parameters for optimization\n",
    "local params, gradParams = model:getParameters()\n",
    "local iteration = 0\n",
    "\n",
    "local steps_per_epoch = train_data.label:size(1) / batchSize\n",
    "\n",
    "while true do\n",
    "   iteration = iteration + 1\n",
    "    \n",
    "   batchIndices:random(1, train_data.label:size(1))\n",
    "   X_batch:copy(train_data.data:index(1, batchIndices))\n",
    "\n",
    "    ----------------------------------------\n",
    "    -------------- TRAINING ----------------\n",
    "    ----------------------------------------\n",
    "   function feval(params)\n",
    "      gradParams:zero()\n",
    "      outputs = model:forward(X_batch)\n",
    "      loss = criterion:forward(outputs, X_batch)\n",
    "      local gradOutputs = criterion:backward(outputs, X_batch)\n",
    "      model:backward(X_batch, gradOutputs)\n",
    "      return loss, gradParams\n",
    "   end\n",
    "    \n",
    "   timer = torch.Timer() -- timer\n",
    "   optim.adagrad(feval, params, optimState)\n",
    "   datum_sec = batchSize / \n",
    "   timer:time().real\n",
    "    \n",
    "   if iteration % display_n == 0 then\n",
    "          print(string.format(\"TRAINING – epoch %.2f, loss = %.4f, %.2f datum/sec\", iteration / steps_per_epoch, loss, datum_sec))\n",
    "   end\n",
    "    ----------------------------------------\n",
    "    ----------------------------------------\n",
    "    \n",
    "    \n",
    "    ----------------------------------------\n",
    "    ------------- EVALUATION ---------------\n",
    "    ----------------------------------------\n",
    "   if (iteration - 1) % test_n == 0 or iteration / steps_per_epoch >= maxEpoch then\n",
    "       model:evaluate() -- evaluation mode, i.e. do not use dropout\n",
    "       local outputs_ = model:forward(test_data.data)\n",
    "       local loss_ = criterion:forward(outputs, test_data.data)\n",
    "       print(string.format('TEST – epoch %.2f, loss: %.4f', iteration / steps_per_epoch, loss_))\n",
    "       model:training() -- training mode, i.e. use dropout\n",
    "   end\n",
    "    ----------------------------------------\n",
    "    ----------------------------------------\n",
    "    \n",
    "    if iteration / steps_per_epoch > maxEpoch then\n",
    "        break\n",
    "   end\n",
    "end"
   ]
  },
  {
   "cell_type": "markdown",
   "metadata": {},
   "source": [
    "Let's see how our trained autoencoder reconstruct some images."
   ]
  },
  {
   "cell_type": "code",
   "execution_count": 25,
   "metadata": {
    "collapsed": false
   },
   "outputs": [
    {
     "data": {
      "image/png": "[encoded data removed]",
      "text/plain": [
       "Console does not support images"
      ]
     },
     "metadata": {
      "image/png": {
       "height": 30,
       "width": 60
      }
     },
     "output_type": "display_data"
    },
    {
     "data": {
      "image/png": "[encoded data removed]",
      "text/plain": [
       "Console does not support images"
      ]
     },
     "metadata": {
      "image/png": {
       "height": 30,
       "width": 60
      }
     },
     "output_type": "display_data"
    },
    {
     "data": {
      "image/png": "[encoded data removed]",
      "text/plain": [
       "Console does not support images"
      ]
     },
     "metadata": {
      "image/png": {
       "height": 30,
       "width": 60
      }
     },
     "output_type": "display_data"
    },
    {
     "data": {
      "image/png": "[encoded data removed]",
      "text/plain": [
       "Console does not support images"
      ]
     },
     "metadata": {
      "image/png": {
       "height": 30,
       "width": 60
      }
     },
     "output_type": "display_data"
    },
    {
     "data": {
      "image/png": "[encoded data removed]",
      "text/plain": [
       "Console does not support images"
      ]
     },
     "metadata": {
      "image/png": {
       "height": 30,
       "width": 60
      }
     },
     "output_type": "display_data"
    },
    {
     "data": {
      "image/png": "[encoded data removed]",
      "text/plain": [
       "Console does not support images"
      ]
     },
     "metadata": {
      "image/png": {
       "height": 30,
       "width": 60
      }
     },
     "output_type": "display_data"
    },
    {
     "data": {
      "image/png": "[encoded data removed]",
      "text/plain": [
       "Console does not support images"
      ]
     },
     "metadata": {
      "image/png": {
       "height": 30,
       "width": 60
      }
     },
     "output_type": "display_data"
    },
    {
     "data": {
      "image/png": "[encoded data removed]",
      "text/plain": [
       "Console does not support images"
      ]
     },
     "metadata": {
      "image/png": {
       "height": 30,
       "width": 60
      }
     },
     "output_type": "display_data"
    },
    {
     "data": {
      "image/png": "[encoded data removed]",
      "text/plain": [
       "Console does not support images"
      ]
     },
     "metadata": {
      "image/png": {
       "height": 30,
       "width": 60
      }
     },
     "output_type": "display_data"
    },
    {
     "data": {
      "image/png": "[encoded data removed]",
      "text/plain": [
       "Console does not support images"
      ]
     },
     "metadata": {
      "image/png": {
       "height": 30,
       "width": 60
      }
     },
     "output_type": "display_data"
    }
   ],
   "source": [
    "for i=1,10 do\n",
    "    original = test_data.data[torch.random(test_data.data:size(1))]\n",
    "    reconstruction = net:forward(original)\n",
    "    itorch.image({original, reconstruction})\n",
    "end"
   ]
  },
  {
   "cell_type": "markdown",
   "metadata": {},
   "source": [
    "The reconstructions are much better than with the [autoencoder using only fully connected layers](autoencoder.ipynb)."
   ]
  }
 ],
 "metadata": {
  "kernelspec": {
   "display_name": "iTorch",
   "language": "lua",
   "name": "itorch"
  },
  "language_info": {
   "name": "lua",
   "version": "5.1"
  }
 },
 "nbformat": 4,
 "nbformat_minor": 0
}
