{
 "cells": [
  {
   "cell_type": "code",
   "execution_count": 1,
   "metadata": {
    "collapsed": true
   },
   "outputs": [],
   "source": [
    "import torch\n",
    "import torch.nn as nn\n",
    "import torchvision.datasets as dsets\n",
    "import torchvision.transforms as transforms\n",
    "from torch.autograd import Variable"
   ]
  },
  {
   "cell_type": "code",
   "execution_count": 2,
   "metadata": {
    "collapsed": true
   },
   "outputs": [],
   "source": [
    "# Hyper Parameters \n",
    "input_size = 784\n",
    "hidden_size1 = 500\n",
    "hidden_size2 = 300\n",
    "num_classes = 10\n",
    "num_epochs = 5\n",
    "batch_size = 100\n",
    "learning_rate = 0.001"
   ]
  },
  {
   "cell_type": "code",
   "execution_count": 3,
   "metadata": {
    "collapsed": false
   },
   "outputs": [],
   "source": [
    "# MNIST Dataset \n",
    "train_dataset = dsets.MNIST(root='../data', \n",
    "                            train=True, \n",
    "                            transform=transforms.ToTensor(),  \n",
    "                            download=True)\n",
    "\n",
    "test_dataset = dsets.MNIST(root='../data', \n",
    "                           train=False, \n",
    "                           transform=transforms.ToTensor())"
   ]
  },
  {
   "cell_type": "code",
   "execution_count": 4,
   "metadata": {
    "collapsed": true
   },
   "outputs": [],
   "source": [
    "# Data Loader (Input Pipeline)\n",
    "train_loader = torch.utils.data.DataLoader(dataset=train_dataset, \n",
    "                                           batch_size=batch_size, \n",
    "                                           shuffle=True)\n",
    "\n",
    "test_loader = torch.utils.data.DataLoader(dataset=test_dataset, \n",
    "                                          batch_size=batch_size, \n",
    "                                          shuffle=False)"
   ]
  },
  {
   "cell_type": "code",
   "execution_count": 5,
   "metadata": {
    "collapsed": false
   },
   "outputs": [],
   "source": [
    "# Neural Network Model (1 hidden layer)\n",
    "class Net(nn.Module):\n",
    "    def __init__(self, input_size, hidden_size1, hidden_size2, num_classes):\n",
    "        super(Net, self).__init__()\n",
    "        self.fc1 = nn.Linear(input_size, hidden_size1) \n",
    "        self.relu = nn.ReLU()\n",
    "        self.fc2 = nn.Linear(hidden_size1, hidden_size2)\n",
    "        self.fc3 = nn.Linear(hidden_size2, num_classes)  \n",
    "    \n",
    "    def forward(self, x):\n",
    "        out = self.fc1(x)\n",
    "        out = self.relu(out)\n",
    "        out = self.fc2(out)\n",
    "        out = self.relu(out)\n",
    "        out = self.fc3(out)\n",
    "        return out\n",
    "    \n",
    "net = Net(input_size, hidden_size1, hidden_size2, num_classes)"
   ]
  },
  {
   "cell_type": "code",
   "execution_count": 6,
   "metadata": {
    "collapsed": true
   },
   "outputs": [],
   "source": [
    "# Loss and Optimizer\n",
    "criterion = nn.CrossEntropyLoss()  \n",
    "optimizer = torch.optim.Adam(net.parameters(), lr=learning_rate) "
   ]
  },
  {
   "cell_type": "code",
   "execution_count": 7,
   "metadata": {
    "collapsed": false
   },
   "outputs": [
    {
     "name": "stdout",
     "output_type": "stream",
     "text": [
      "Epoch [1/5], Step [100/600], Loss: 0.3374\n",
      "Epoch [1/5], Step [200/600], Loss: 0.3459\n",
      "Epoch [1/5], Step [300/600], Loss: 0.2452\n",
      "Epoch [1/5], Step [400/600], Loss: 0.0764\n",
      "Epoch [1/5], Step [500/600], Loss: 0.1869\n",
      "Epoch [1/5], Step [600/600], Loss: 0.1357\n",
      "Epoch [2/5], Step [100/600], Loss: 0.1365\n",
      "Epoch [2/5], Step [200/600], Loss: 0.1588\n",
      "Epoch [2/5], Step [300/600], Loss: 0.0859\n",
      "Epoch [2/5], Step [400/600], Loss: 0.0886\n",
      "Epoch [2/5], Step [500/600], Loss: 0.0811\n",
      "Epoch [2/5], Step [600/600], Loss: 0.0639\n",
      "Epoch [3/5], Step [100/600], Loss: 0.0389\n",
      "Epoch [3/5], Step [200/600], Loss: 0.1113\n",
      "Epoch [3/5], Step [300/600], Loss: 0.0804\n",
      "Epoch [3/5], Step [400/600], Loss: 0.0665\n",
      "Epoch [3/5], Step [500/600], Loss: 0.1476\n",
      "Epoch [3/5], Step [600/600], Loss: 0.0161\n",
      "Epoch [4/5], Step [100/600], Loss: 0.0904\n",
      "Epoch [4/5], Step [200/600], Loss: 0.0323\n",
      "Epoch [4/5], Step [300/600], Loss: 0.0796\n",
      "Epoch [4/5], Step [400/600], Loss: 0.0301\n",
      "Epoch [4/5], Step [500/600], Loss: 0.0698\n",
      "Epoch [4/5], Step [600/600], Loss: 0.0266\n",
      "Epoch [5/5], Step [100/600], Loss: 0.0120\n",
      "Epoch [5/5], Step [200/600], Loss: 0.0454\n",
      "Epoch [5/5], Step [300/600], Loss: 0.0335\n",
      "Epoch [5/5], Step [400/600], Loss: 0.0191\n",
      "Epoch [5/5], Step [500/600], Loss: 0.0082\n",
      "Epoch [5/5], Step [600/600], Loss: 0.0324\n"
     ]
    }
   ],
   "source": [
    "# Train the Model\n",
    "for epoch in range(num_epochs):\n",
    "    for i, (images, labels) in enumerate(train_loader):  \n",
    "        # Convert torch tensor to Variable\n",
    "        images = Variable(images.view(-1, 28*28))\n",
    "        labels = Variable(labels)\n",
    "        \n",
    "        # Forward + Backward + Optimize\n",
    "        optimizer.zero_grad()  # zero the gradient buffer\n",
    "        outputs = net(images)\n",
    "        loss = criterion(outputs, labels)\n",
    "        loss.backward()\n",
    "        optimizer.step()\n",
    "        \n",
    "        if (i+1) % 100 == 0:\n",
    "            print ('Epoch [%d/%d], Step [%d/%d], Loss: %.4f' \n",
    "                   %(epoch+1, num_epochs, i+1, len(train_dataset)//batch_size, loss.data[0]))\n"
   ]
  },
  {
   "cell_type": "code",
   "execution_count": 8,
   "metadata": {
    "collapsed": false
   },
   "outputs": [
    {
     "name": "stdout",
     "output_type": "stream",
     "text": [
      "Accuracy of the network on the 10000 test images: 97.82 %\n"
     ]
    }
   ],
   "source": [
    "# Test the Model\n",
    "correct = 0\n",
    "total = 0\n",
    "for images, labels in test_loader:\n",
    "    images = Variable(images.view(-1, 28*28))\n",
    "    outputs = net(images)\n",
    "    _, predicted = torch.max(outputs.data, 1)\n",
    "    total += labels.size(0)\n",
    "    correct += (predicted == labels).sum()\n",
    "\n",
    "print('Accuracy of the network on the 10000 test images: %.2f %%' % (100 * float(correct) / total))\n",
    "\n",
    "# Save the Model\n",
    "#torch.save(net.state_dict(), 'model.pkl')"
   ]
  },
  {
   "cell_type": "code",
   "execution_count": 21,
   "metadata": {
    "collapsed": false
   },
   "outputs": [
    {
     "data": {
      "text/plain": [
       "array([[-0.01207519, -0.008337  ,  0.00288978, ..., -0.00056363,\n",
       "        -0.00068803,  0.03549423],\n",
       "       [ 0.01876864, -0.00264877, -0.02753175, ..., -0.02269857,\n",
       "         0.00368283,  0.02207579],\n",
       "       [ 0.00593084,  0.01474139, -0.03443949, ..., -0.0350008 ,\n",
       "         0.01326997, -0.00438263],\n",
       "       ..., \n",
       "       [-0.00921215, -0.01625409,  0.01154211, ..., -0.0094657 ,\n",
       "         0.00625436, -0.02851655],\n",
       "       [-0.00797904, -0.00545282,  0.01716968, ...,  0.01284791,\n",
       "        -0.00293893,  0.02518328],\n",
       "       [-0.03211244,  0.00913417, -0.00688526, ..., -0.00755835,\n",
       "         0.02061422,  0.02493836]], dtype=float32)"
      ]
     },
     "execution_count": 21,
     "metadata": {},
     "output_type": "execute_result"
    }
   ],
   "source": [
    "net.state_dict()['fc1.weight'].numpy()"
   ]
  },
  {
   "cell_type": "code",
   "execution_count": 19,
   "metadata": {
    "collapsed": true
   },
   "outputs": [],
   "source": [
    "a = torch.zeros(20).numpy()"
   ]
  },
  {
   "cell_type": "code",
   "execution_count": 20,
   "metadata": {
    "collapsed": false
   },
   "outputs": [
    {
     "data": {
      "text/plain": [
       "array([ 0.,  0.,  0.,  0.,  0.,  0.,  0.,  0.,  0.,  0.,  0.,  0.,  0.,\n",
       "        0.,  0.,  0.,  0.,  0.,  0.,  0.], dtype=float32)"
      ]
     },
     "execution_count": 20,
     "metadata": {},
     "output_type": "execute_result"
    }
   ],
   "source": [
    "a.numpy()"
   ]
  }
 ],
 "metadata": {
  "kernelspec": {
   "display_name": "Python 2",
   "language": "python",
   "name": "python2"
  },
  "language_info": {
   "codemirror_mode": {
    "name": "ipython",
    "version": 2
   },
   "file_extension": ".py",
   "mimetype": "text/x-python",
   "name": "python",
   "nbconvert_exporter": "python",
   "pygments_lexer": "ipython2",
   "version": "2.7.11"
  }
 },
 "nbformat": 4,
 "nbformat_minor": 0
}
